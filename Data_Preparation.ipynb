{
  "nbformat": 4,
  "nbformat_minor": 0,
  "metadata": {
    "colab": {
      "name": "Data Preparation.ipynb",
      "provenance": [],
      "collapsed_sections": []
    },
    "kernelspec": {
      "name": "python3",
      "display_name": "Python 3"
    },
    "language_info": {
      "name": "python"
    }
  },
  "cells": [
    {
      "cell_type": "code",
      "execution_count": 6,
      "metadata": {
        "id": "6t2BnUaP0o5a",
        "colab": {
          "base_uri": "https://localhost:8080/"
        },
        "outputId": "9a8e1470-c1e9-4cc1-c85c-0d96146414fc"
      },
      "outputs": [
        {
          "output_type": "stream",
          "name": "stdout",
          "text": [
            "Drive already mounted at /content/gdrive; to attempt to forcibly remount, call drive.mount(\"/content/gdrive\", force_remount=True).\n"
          ]
        }
      ],
      "source": [
        "import os\n",
        "import shutil\n",
        "import glob\n",
        "from tqdm import tqdm\n",
        "import random\n",
        "from google.colab import drive\n",
        "drive.mount('/content/gdrive')"
      ]
    },
    {
      "cell_type": "code",
      "source": [
        "from google.colab import drive\n",
        "drive.mount('/content/drive')"
      ],
      "metadata": {
        "id": "nvTMUP36P9hN"
      },
      "execution_count": null,
      "outputs": []
    },
    {
      "cell_type": "code",
      "source": [
        "Raw_DIR= r'/content/gdrive/MyDrive/SGP/Dataset/mrlEyes_2018_01'\n",
        "for dirpath, dirname, filename in os.walk(Raw_DIR):\n",
        "  for i in tqdm([f for f in filename if f.endswith('.png')]):\n",
        "     if i.split('_')[4]=='0':\n",
        "        shutil.copy(src=dirpath+'/'+i,dst=r'/content/gdrive/MyDrive/SGP/Dataset/Prepared_Data/train/Close Eyes')\n",
        "  \n",
        "     elif i.split('_')[4]=='1':\n",
        "        shutil.copy(src=dirpath+'/'+i,dst=r'/content/gdrive/MyDrive/SGP/Dataset/Prepared_Data/train/Open Eyes')\n",
        "\n"
      ],
      "metadata": {
        "id": "JbKaKZ_R1EYL",
        "colab": {
          "base_uri": "https://localhost:8080/"
        },
        "outputId": "3aad43ad-71fd-4056-9358-9577849d57b4"
      },
      "execution_count": null,
      "outputs": [
        {
          "output_type": "stream",
          "name": "stderr",
          "text": [
            "0it [00:00, ?it/s]\n",
            "100%|██████████| 8884/8884 [06:09<00:00, 24.02it/s] \n",
            "100%|██████████| 704/704 [00:16<00:00, 43.60it/s]\n",
            "100%|██████████| 624/624 [00:12<00:00, 50.26it/s]\n",
            "100%|██████████| 736/736 [00:14<00:00, 51.77it/s]\n",
            "100%|██████████| 1384/1384 [00:30<00:00, 45.27it/s]\n",
            "100%|██████████| 1393/1393 [00:35<00:00, 39.00it/s]\n",
            "100%|██████████| 1738/1738 [00:43<00:00, 39.89it/s]\n",
            "100%|██████████| 752/752 [00:17<00:00, 43.00it/s]\n",
            "100%|██████████| 3605/3605 [03:53<00:00, 15.43it/s]\n",
            "100%|██████████| 1246/1246 [00:27<00:00, 45.56it/s]\n",
            "100%|██████████| 736/736 [00:21<00:00, 34.28it/s]\n",
            "100%|██████████| 6162/6162 [05:12<00:00, 19.75it/s]\n",
            "100%|██████████| 3243/3243 [02:33<00:00, 21.06it/s]\n",
            "100%|██████████| 387/387 [00:06<00:00, 61.87it/s] \n",
            "100%|██████████| 1132/1132 [00:25<00:00, 44.79it/s]\n",
            "100%|██████████| 987/987 [00:19<00:00, 51.88it/s]\n",
            "100%|██████████| 642/642 [00:13<00:00, 48.88it/s]\n",
            "100%|██████████| 10257/10257 [11:28<00:00, 14.90it/s]\n",
            "100%|██████████| 679/679 [00:13<00:00, 51.17it/s]\n",
            "100%|██████████| 681/681 [00:13<00:00, 50.23it/s]\n",
            "100%|██████████| 8728/8728 [08:16<00:00, 17.58it/s]\n",
            "100%|██████████| 1012/1012 [00:23<00:00, 42.75it/s]\n",
            "100%|██████████| 1648/1648 [00:32<00:00, 50.45it/s] \n",
            "100%|██████████| 382/382 [00:06<00:00, 62.18it/s] \n",
            "100%|██████████| 1889/1889 [00:37<00:00, 50.03it/s]\n",
            "100%|██████████| 665/665 [00:12<00:00, 54.31it/s]\n",
            "100%|██████████| 832/832 [00:19<00:00, 43.40it/s] \n",
            "100%|██████████| 1648/1648 [00:37<00:00, 44.24it/s]\n",
            "100%|██████████| 1114/1114 [00:23<00:00, 47.91it/s]\n",
            "100%|██████████| 739/739 [00:14<00:00, 51.64it/s] \n",
            "100%|██████████| 1069/1069 [00:22<00:00, 47.70it/s]\n",
            "100%|██████████| 6213/6213 [05:33<00:00, 18.62it/s]\n",
            "100%|██████████| 1502/1502 [00:29<00:00, 51.53it/s]\n",
            "100%|██████████| 6175/6175 [05:41<00:00, 18.07it/s]\n",
            "100%|██████████| 522/522 [00:12<00:00, 43.06it/s]\n",
            "100%|██████████| 4410/4410 [02:34<00:00, 28.49it/s]\n",
            "100%|██████████| 399/399 [00:07<00:00, 54.34it/s]\n"
          ]
        }
      ]
    },
    {
      "cell_type": "code",
      "source": [
        "def create_test_closed(source, destination, percent):\n",
        "   \n",
        "    path, dirs, files_closed = next(os.walk(source))\n",
        "    file_count_closed = len(files_closed)\n",
        "    percentage = file_count_closed * percent\n",
        "    to_move = random.sample(glob.glob(source + \"/*.png\"), int(percentage))\n",
        "\n",
        "    for f in enumerate(to_move):\n",
        "        if not os.path.exists(destination):\n",
        "            os.makedirs(destination)\n",
        "        shutil.move(f[1], destination)\n",
        "    print(f'moved {int(percentage)} images to the destination successfully.')  "
      ],
      "metadata": {
        "id": "jUx8XevuDgpr"
      },
      "execution_count": 3,
      "outputs": []
    },
    {
      "cell_type": "code",
      "source": [
        "def create_test_open(source, destination, percent):\n",
        "    \n",
        "    path, dirs, files_open = next(os.walk(source))\n",
        "    file_count_open = len(files_open)\n",
        "    percentage = file_count_open * percent\n",
        "    to_move = random.sample(glob.glob(source + \"/*.png\"), int(percentage))\n",
        "\n",
        "    for f in enumerate(to_move):\n",
        "        if not os.path.exists(destination):\n",
        "            os.makedirs(destination)\n",
        "        shutil.move(f[1], destination)\n",
        "    print(f'moved {int(percentage)} images to the destination successfully.')"
      ],
      "metadata": {
        "id": "HkqUOPjnPipB"
      },
      "execution_count": 4,
      "outputs": []
    },
    {
      "cell_type": "code",
      "source": [
        "create_test_closed('/content/gdrive/MyDrive/SGP/Dataset/Prepared_Data/train/Close Eyes', \n",
        "                    '/content/gdrive/MyDrive/SGP/Dataset/Prepared_Data/test/Close Eyes', \n",
        "                    0.2)"
      ],
      "metadata": {
        "colab": {
          "base_uri": "https://localhost:8080/"
        },
        "id": "biwQAszlPjEv",
        "outputId": "aac1101b-fed6-4015-afa0-4cfb29583c2c"
      },
      "execution_count": 9,
      "outputs": [
        {
          "output_type": "stream",
          "name": "stdout",
          "text": [
            "moved 8391 images to the destination successfully.\n"
          ]
        }
      ]
    },
    {
      "cell_type": "code",
      "source": [
        "create_test_open('/content/gdrive/MyDrive/SGP/Dataset/Prepared_Data/train/Open Eyes', \n",
        "                    '/content/gdrive/MyDrive/SGP/Dataset/Prepared_Data/test/Open Eyes', \n",
        "                    0.2)"
      ],
      "metadata": {
        "colab": {
          "base_uri": "https://localhost:8080/"
        },
        "id": "12IVUhLTQMWD",
        "outputId": "97126f44-161e-43ed-e9c4-d614163e37af"
      },
      "execution_count": 10,
      "outputs": [
        {
          "output_type": "stream",
          "name": "stdout",
          "text": [
            "moved 8592 images to the destination successfully.\n"
          ]
        }
      ]
    }
  ]
}