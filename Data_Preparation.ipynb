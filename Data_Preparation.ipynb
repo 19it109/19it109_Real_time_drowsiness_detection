{
  "nbformat": 4,
  "nbformat_minor": 0,
  "metadata": {
    "colab": {
      "name": "Data Preparation.ipynb",
      "provenance": [],
      "toc_visible": true
    },
    "kernelspec": {
      "name": "python3",
      "display_name": "Python 3"
    },
    "language_info": {
      "name": "python"
    }
  },
  "cells": [
    {
      "cell_type": "code",
      "execution_count": 10,
      "metadata": {
        "id": "6t2BnUaP0o5a"
      },
      "outputs": [],
      "source": [
        "import os\n",
        "import shutil\n",
        "import glob\n",
        "from tqdm import tqdm"
      ]
    },
    {
      "cell_type": "code",
      "source": [
        "Raw_DIR= r'C:\\Users\\ASUS\\Desktop\\sgp\\Dataset\\mrlEyes_2018_01'\n",
        "for dirpath, dirname, filenames in os.walk(Raw_DIR):\n",
        "  for i in tqdm([f for f in filename if f.endswith('.png')]):\n",
        "     if i.split('_')[4]=='0':\n",
        "        shutil.copy(src=dirpath+'/'+i,dst=r'C:\\Users\\ASUS\\Desktop\\sgp\\Dataset\\Prepared_Data\\Close Eyes')\n",
        "  \n",
        "     elif i.split('_')[4]=='1':\n",
        "        shutil.copy(src=dirpath+'/'+i,dst=r'C:\\Users\\ASUS\\Desktop\\sgp\\Dataset\\Prepared_Data\\Open Eyes')\n",
        "\n"
      ],
      "metadata": {
        "id": "JbKaKZ_R1EYL"
      },
      "execution_count": 12,
      "outputs": []
    }
  ]
}